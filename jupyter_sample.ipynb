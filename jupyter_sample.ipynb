{
 "cells": [
  {
   "cell_type": "markdown",
   "id": "1ca2a6f5-bd5a-4520-8380-baf5cb536d41",
   "metadata": {},
   "source": [
    "## ADF Diagnostics In Jupyter\n",
    "This notebook will run the Atmospheric Diagnostic Framework using the settings in a config.yaml file in your ADF directory. \n",
    "\n",
    "Note that it was developed to run on Cheyenne/Caspar JupyterHub *with the NPL (conda) kernel*"
   ]
  },
  {
   "cell_type": "markdown",
   "id": "7eea8d1a-d6a7-4464-bd6d-8194aa2368d0",
   "metadata": {
    "tags": []
   },
   "source": [
    "### Setup\n",
    "#### Required packages"
   ]
  },
  {
   "cell_type": "code",
   "execution_count": 1,
   "id": "2cc09d60-42d0-43ac-ab75-92b2f9a3df9e",
   "metadata": {},
   "outputs": [],
   "source": [
    "import os.path\n",
    "import sys\n"
   ]
  },
  {
   "cell_type": "markdown",
   "id": "6566766f-9d8f-4428-bf01-3c36a1ffeb63",
   "metadata": {
    "tags": []
   },
   "source": [
    "#### Paths"
   ]
  },
  {
   "cell_type": "code",
   "execution_count": 2,
   "id": "b1fb67e7-2b56-4136-a703-a18378b66c9f",
   "metadata": {},
   "outputs": [
    {
     "name": "stdout",
     "output_type": "stream",
     "text": [
      "current working directory = /glade/work/nusbaume/SE_projects/model_diagnostics/bitterbark_ADF\n",
      "ADF path                  = /glade/work/nusbaume/SE_projects/model_diagnostics/bitterbark_ADF\n",
      "ADF source code           = /glade/work/nusbaume/SE_projects/model_diagnostics/bitterbark_ADF/lib\n",
      "ADF plotting scripts      = /glade/work/nusbaume/SE_projects/model_diagnostics/bitterbark_ADF/scripts/plotting\n"
     ]
    }
   ],
   "source": [
    "# ADF Code path\n",
    "# If it is in your cwd, set adf_code = local_path (initialized below)\n",
    "# otherwise set adf_code appropriately\n",
    "\n",
    "local_path = os.path.abspath('')\n",
    "adf_code = local_path\n",
    "#adf_code = \"/glade/u/home/bundy/diag/ADF_top/ADF\"\n",
    "\n",
    "#set path to ADF lib (main code)\n",
    "lib_path = os.path.join(adf_code,\"lib\")\n",
    "\n",
    "#set path to ADF plotting scripts \n",
    "plotting_scripts_path = os.path.join(adf_code,\"scripts\",\"plotting\")\n",
    "\n",
    "#Add paths to python path:\n",
    "sys.path.append(lib_path)\n",
    "sys.path.append(plotting_scripts_path)\n",
    "\n",
    "print(f\"current working directory = {local_path}\")\n",
    "print(f\"ADF path                  = {adf_code}\")\n",
    "print(f\"ADF source code           = {lib_path}\")\n",
    "print(f\"ADF plotting scripts      = {plotting_scripts_path}\")\n"
   ]
  },
  {
   "cell_type": "markdown",
   "id": "159be7f2-8593-483a-b200-daf8c3c992c8",
   "metadata": {
    "tags": []
   },
   "source": [
    "#### Paths to data that is input or produced by the ADF are set in the config.yaml file. \n",
    "To modify from the defaults, _edit that file_.\n",
    "\n",
    "If there are errors here, it is likely due to path errors above\n",
    "\n"
   ]
  },
  {
   "cell_type": "code",
   "execution_count": 3,
   "id": "cd4918d2-dcc0-417b-8867-d368c4cb1d78",
   "metadata": {},
   "outputs": [
    {
     "name": "stdout",
     "output_type": "stream",
     "text": [
      "Will read settings from  /glade/work/nusbaume/SE_projects/model_diagnostics/bitterbark_ADF/config_cam_baseline_example.yaml\n"
     ]
    }
   ],
   "source": [
    "#set path to config YAML file:\n",
    "config_file=os.path.join(adf_code,\"config_cam_baseline_example.yaml\")\n",
    "\n",
    "print(f\"Will read settings from \",config_file)"
   ]
  },
  {
   "cell_type": "code",
   "execution_count": 4,
   "id": "f553607f-cd31-4aa3-8142-4959b3569a1a",
   "metadata": {},
   "outputs": [],
   "source": [
    "#import ADF diagnostics object\n",
    "from adf_diag import AdfDiag\n",
    "\n",
    "# If this fails, check your paths output in the cells above,\n",
    "# and that you are running the NPL (conda) Kernel\n",
    "# You can see all the paths being examined by un-commenting the following:\n",
    "#sys.path"
   ]
  },
  {
   "cell_type": "code",
   "execution_count": 5,
   "id": "fc194087-e523-4161-9af4-0c45983d268e",
   "metadata": {},
   "outputs": [
    {
     "name": "stdout",
     "output_type": "stream",
     "text": [
      "Reading settings from  /glade/work/nusbaume/SE_projects/model_diagnostics/bitterbark_ADF/config_cam_baseline_example.yaml\n",
      "user name set to: nusbaume\n"
     ]
    }
   ],
   "source": [
    "#\n",
    "# Initialize ADF object from the user-set config file\n",
    "#\n",
    "# Note that you will need to set 'user' in your config file. \n",
    "# The file makes some assumptions about output/working data directories \n",
    "# that can be checked by searching for where the variable 'user' is used.\n",
    "#\n",
    "# Any changes that are made to the config file will require re-running this cell\n",
    "# \n",
    "adf = AdfDiag(config_file)\n",
    "print(f\"Reading settings from \",config_file)\n",
    "\n",
    "check_user = adf.read_config_var(\"user\")\n",
    "err_msg = 'ERROR: You need to set user in the config.yaml to your user name'\n",
    "assert check_user != 'USER-NAME-NOT-SET', f'{err_msg}'\n",
    "print(f'user name set to: {check_user}')\n"
   ]
  },
  {
   "cell_type": "code",
   "execution_count": 6,
   "id": "a1a2939c-dbf8-4cef-8bc9-0f3e756b8075",
   "metadata": {},
   "outputs": [
    {
     "data": {
      "text/plain": [
       "{'calc_cam_climo': True,\n",
       " 'cam_overwrite_climo': False,\n",
       " 'cam_case_name': 'b.e20.BHIST.f09_g17.20thC.297_05',\n",
       " 'cam_hist_loc': '/glade/p/cesm/ADF/${diag_cam_climo.cam_case_name}',\n",
       " 'cam_climo_loc': '/glade/scratch/${user}/ADF/${diag_cam_climo.cam_case_name}/climo',\n",
       " 'start_year': 1990,\n",
       " 'end_year': 1999,\n",
       " 'cam_ts_done': False,\n",
       " 'cam_ts_save': True,\n",
       " 'cam_overwrite_ts': False,\n",
       " 'cam_ts_loc': '/glade/scratch/${user}/ADF/${diag_cam_climo.cam_case_name}/ts'}"
      ]
     },
     "execution_count": 6,
     "metadata": {},
     "output_type": "execute_result"
    }
   ],
   "source": [
    "# Pull (and print) some info from the ADF object:\n",
    "baseline_dict = adf.read_config_var(\"diag_cam_climo\")\n",
    "baseline_dict"
   ]
  },
  {
   "cell_type": "code",
   "execution_count": 11,
   "id": "3bb53c89-82dc-407b-97a1-6162e8defcc8",
   "metadata": {},
   "outputs": [
    {
     "name": "stdout",
     "output_type": "stream",
     "text": [
      "ADF plots will be written to /glade/scratch/nusbaume/ADF/plots\n",
      "case hist files will be read from ['/glade/p/cesm/ADF/b.e20.BHIST.f09_g17.20thC.297_05']\n",
      "baseline time series files will be read from /glade/scratch/nusbaume/ADF/b.e20.BHIST.f09_g16.20thC.125.02/ts\n",
      "The number of pineapples in the config file is None\n"
     ]
    }
   ],
   "source": [
    "# More useful to get information with the variable settings (eg cam_case_name) replaced\n",
    "# with their actual values:\n",
    "\n",
    "#Grab a processed variable under \"diag_basic_info\":\n",
    "print(\"ADF plots will be written to\",adf.get_basic_info('cam_diag_plot_loc', required=True))\n",
    "\n",
    "#Grab a processed variable under \"diag_cam_climo\":\n",
    "print(\"case hist files will be read from\",adf.get_cam_info('cam_hist_loc', required=True))\n",
    "\n",
    "#Grab a processed variable under \"diag_cam_baseline_climo\":\n",
    "print(\"baseline time series files will be read from\",adf.get_baseline_info('cam_ts_loc', required=True))\n",
    "\n",
    "#Finally, if you request a non-existent variable, and don't have \"required=True\", it will return None:\n",
    "print(\"The number of pineapples in the config file is\",adf.get_basic_info('pineapples'))"
   ]
  },
  {
   "cell_type": "markdown",
   "id": "c7d266a8-f006-468d-96d5-51d9a93dd6dd",
   "metadata": {
    "tags": []
   },
   "source": [
    "### ADF Standard Work Flow"
   ]
  },
  {
   "cell_type": "code",
   "execution_count": 12,
   "id": "25165dcb-5784-4487-97ab-896b6cf395e2",
   "metadata": {
    "tags": []
   },
   "outputs": [
    {
     "name": "stdout",
     "output_type": "stream",
     "text": [
      "case ts files will be created in ['/glade/scratch/nusbaume/ADF/b.e20.BHIST.f09_g17.20thC.297_05/ts']\n",
      "\n",
      "  Generating CAM time series files...\n",
      "\t Processing time series for case 'b.e20.BHIST.f09_g17.20thC.297_05' :\n",
      "\t - time series for SWCF\n",
      "\t - time series for LWCF\n",
      "\t - time series for PRECC\n",
      "\t - time series for PRECL\n",
      "\t - time series for PSL\n",
      "\t - time series for Q\n",
      "\t - time series for U\n",
      "\t - time series for T\n",
      "\t - time series for RELHUM\n",
      "\t - time series for TREFHT\n",
      "\t - time series for TS\n",
      "\t - time series for TAUX\n",
      "\t - time series for TAUY\n",
      "\t - time series for FSNT\n",
      "\t - time series for FLNT\n",
      "\t - time series for LANDFRAC\n",
      "  ...CAM time series file generation has finished successfully.\n"
     ]
    }
   ],
   "source": [
    "#Create model time series.\n",
    "print(f\"case ts files will be created in\",adf.get_cam_info('cam_ts_loc', required=True))\n",
    "adf.create_time_series()\n",
    "\n",
    "\n",
    "   "
   ]
  },
  {
   "cell_type": "code",
   "execution_count": 15,
   "id": "924604b7-0da8-4867-9870-b8bb32131483",
   "metadata": {
    "tags": []
   },
   "outputs": [
    {
     "name": "stdout",
     "output_type": "stream",
     "text": [
      "baseline ts files will be created in /glade/scratch/nusbaume/ADF/b.e20.BHIST.f09_g16.20thC.125.02/ts\n",
      "\n",
      "  Generating CAM time series files...\n",
      "\t Processing time series for case 'b.e20.BHIST.f09_g16.20thC.125.02' :\n",
      "\t - time series for SWCF\n",
      "\t - time series for LWCF\n",
      "\t - time series for PRECC\n",
      "\t - time series for PRECL\n",
      "\t - time series for PSL\n",
      "\t - time series for Q\n",
      "\t - time series for U\n",
      "\t - time series for T\n",
      "\t - time series for RELHUM\n",
      "\t - time series for TREFHT\n",
      "\t - time series for TS\n",
      "\t - time series for TAUX\n",
      "\t - time series for TAUY\n",
      "\t - time series for FSNT\n",
      "\t - time series for FLNT\n",
      "\t - time series for LANDFRAC\n",
      "  ...CAM time series file generation has finished successfully.\n"
     ]
    }
   ],
   "source": [
    "#Create model baseline time series (if needed):\n",
    "if not adf.compare_obs:\n",
    "    print(f\"baseline ts files will be created in\",adf.get_baseline_info('cam_ts_loc', required=True))\n",
    "    adf.create_time_series(baseline=True)\n"
   ]
  },
  {
   "cell_type": "code",
   "execution_count": 16,
   "id": "85a611c7-a90b-4d24-a518-046407564e35",
   "metadata": {
    "tags": []
   },
   "outputs": [
    {
     "name": "stdout",
     "output_type": "stream",
     "text": [
      "case climo files will be created in ['/glade/scratch/nusbaume/ADF/b.e20.BHIST.f09_g17.20thC.297_05/climo']\n",
      "\n",
      "  Calculating CAM climatologies...\n",
      "\t Calculating climatologies for case 'b.e20.BHIST.f09_g17.20thC.297_05' :\n",
      "\t    INFO: Found climo file and clobber is False, so skipping SWCF and moving to next variable.\n",
      "\t    INFO: Found climo file and clobber is False, so skipping LWCF and moving to next variable.\n",
      "\t    INFO: Found climo file and clobber is False, so skipping PRECC and moving to next variable.\n",
      "\t    INFO: Found climo file and clobber is False, so skipping PRECL and moving to next variable.\n",
      "\t    INFO: Found climo file and clobber is False, so skipping PSL and moving to next variable.\n",
      "\t    INFO: Found climo file and clobber is False, so skipping Q and moving to next variable.\n",
      "\t    INFO: Found climo file and clobber is False, so skipping U and moving to next variable.\n",
      "\t    INFO: Found climo file and clobber is False, so skipping T and moving to next variable.\n",
      "\t    INFO: Found climo file and clobber is False, so skipping RELHUM and moving to next variable.\n",
      "\t    INFO: Found climo file and clobber is False, so skipping TREFHT and moving to next variable.\n",
      "\t    INFO: Found climo file and clobber is False, so skipping TS and moving to next variable.\n",
      "\t    INFO: Found climo file and clobber is False, so skipping TAUX and moving to next variable.\n",
      "\t    INFO: Found climo file and clobber is False, so skipping TAUY and moving to next variable.\n",
      "\t    INFO: Found climo file and clobber is False, so skipping FSNT and moving to next variable.\n",
      "\t    INFO: Found climo file and clobber is False, so skipping FLNT and moving to next variable.\n",
      "\t    INFO: Found climo file and clobber is False, so skipping LANDFRAC and moving to next variable.\n",
      "\t Calculating climatologies for case 'b.e20.BHIST.f09_g16.20thC.125.02' :\n",
      "\t    /glade/scratch/nusbaume/ADF/b.e20.BHIST.f09_g16.20thC.125.02/climo not found, making new directory\n",
      "  ...CAM climatologies have been calculated successfully.\n"
     ]
    }
   ],
   "source": [
    "#Create model climatology (climo) files.\n",
    "print(f\"case climo files will be created in\",adf.get_cam_info('cam_climo_loc', required=True))\n",
    "adf.create_climo()"
   ]
  },
  {
   "cell_type": "code",
   "execution_count": 17,
   "id": "012e5b82-f7dd-4fda-84c5-ad1eaeab6406",
   "metadata": {
    "tags": []
   },
   "outputs": [
    {
     "name": "stdout",
     "output_type": "stream",
     "text": [
      "config file did not ask ADF to compare obs\n"
     ]
    }
   ],
   "source": [
    "#If a user is doing a model vs obs comparison, but\n",
    "#no observations were found, then stop here:\n",
    "if adf.compare_obs and not adf.var_obs_dict:\n",
    "        print('ADF diagnostics has completed successfully.')\n",
    "        sys.exit(0)\n",
    "else:\n",
    "    print('config file did not ask ADF to compare obs')"
   ]
  },
  {
   "cell_type": "code",
   "execution_count": 18,
   "id": "9673eada-6eeb-4c68-b59a-bd7baf62aca1",
   "metadata": {
    "tags": []
   },
   "outputs": [
    {
     "name": "stdout",
     "output_type": "stream",
     "text": [
      "\n",
      "  Regridding CAM climatologies...\n",
      "    /glade/scratch/nusbaume/ADF/regrid not found, making new directory\n",
      "\t Regridding case 'b.e20.BHIST.f09_g17.20thC.297_05' :\n",
      "\t - regridding SWCF (known targets: ['b.e20.BHIST.f09_g16.20thC.125.02'])\n",
      "\t - regridding LWCF (known targets: ['b.e20.BHIST.f09_g16.20thC.125.02'])\n",
      "\t - regridding PRECC (known targets: ['b.e20.BHIST.f09_g16.20thC.125.02'])\n",
      "\t - regridding PRECL (known targets: ['b.e20.BHIST.f09_g16.20thC.125.02'])\n",
      "\t - regridding PSL (known targets: ['b.e20.BHIST.f09_g16.20thC.125.02'])\n",
      "\t - regridding Q (known targets: ['b.e20.BHIST.f09_g16.20thC.125.02'])\n",
      "Please ignore the interpolation warnings that follow!\n"
     ]
    },
    {
     "name": "stderr",
     "output_type": "stream",
     "text": [
      "Interpolation point out of data bounds encountered\n",
      "Interpolation point out of data bounds encountered\n"
     ]
    },
    {
     "name": "stdout",
     "output_type": "stream",
     "text": [
      "Please ignore the interpolation warnings that follow!\n"
     ]
    },
    {
     "name": "stderr",
     "output_type": "stream",
     "text": [
      "Interpolation point out of data bounds encountered\n",
      "Interpolation point out of data bounds encountered\n"
     ]
    },
    {
     "name": "stdout",
     "output_type": "stream",
     "text": [
      "\t - regridding U (known targets: ['b.e20.BHIST.f09_g16.20thC.125.02'])\n",
      "Please ignore the interpolation warnings that follow!\n"
     ]
    },
    {
     "name": "stderr",
     "output_type": "stream",
     "text": [
      "Interpolation point out of data bounds encountered\n",
      "Interpolation point out of data bounds encountered\n"
     ]
    },
    {
     "name": "stdout",
     "output_type": "stream",
     "text": [
      "Please ignore the interpolation warnings that follow!\n"
     ]
    },
    {
     "name": "stderr",
     "output_type": "stream",
     "text": [
      "Interpolation point out of data bounds encountered\n",
      "Interpolation point out of data bounds encountered\n"
     ]
    },
    {
     "name": "stdout",
     "output_type": "stream",
     "text": [
      "\t - regridding T (known targets: ['b.e20.BHIST.f09_g16.20thC.125.02'])\n",
      "Please ignore the interpolation warnings that follow!\n"
     ]
    },
    {
     "name": "stderr",
     "output_type": "stream",
     "text": [
      "Interpolation point out of data bounds encountered\n",
      "Interpolation point out of data bounds encountered\n"
     ]
    },
    {
     "name": "stdout",
     "output_type": "stream",
     "text": [
      "Please ignore the interpolation warnings that follow!\n"
     ]
    },
    {
     "name": "stderr",
     "output_type": "stream",
     "text": [
      "Interpolation point out of data bounds encountered\n",
      "Interpolation point out of data bounds encountered\n"
     ]
    },
    {
     "name": "stdout",
     "output_type": "stream",
     "text": [
      "\t - regridding RELHUM (known targets: ['b.e20.BHIST.f09_g16.20thC.125.02'])\n",
      "Please ignore the interpolation warnings that follow!\n"
     ]
    },
    {
     "name": "stderr",
     "output_type": "stream",
     "text": [
      "Interpolation point out of data bounds encountered\n",
      "Interpolation point out of data bounds encountered\n"
     ]
    },
    {
     "name": "stdout",
     "output_type": "stream",
     "text": [
      "Please ignore the interpolation warnings that follow!\n"
     ]
    },
    {
     "name": "stderr",
     "output_type": "stream",
     "text": [
      "Interpolation point out of data bounds encountered\n",
      "Interpolation point out of data bounds encountered\n"
     ]
    },
    {
     "name": "stdout",
     "output_type": "stream",
     "text": [
      "\t - regridding TREFHT (known targets: ['b.e20.BHIST.f09_g16.20thC.125.02'])\n",
      "\t - regridding TS (known targets: ['b.e20.BHIST.f09_g16.20thC.125.02'])\n",
      "\t - regridding TAUX (known targets: ['b.e20.BHIST.f09_g16.20thC.125.02'])\n",
      "\t - regridding TAUY (known targets: ['b.e20.BHIST.f09_g16.20thC.125.02'])\n",
      "\t - regridding FSNT (known targets: ['b.e20.BHIST.f09_g16.20thC.125.02'])\n",
      "\t - regridding FLNT (known targets: ['b.e20.BHIST.f09_g16.20thC.125.02'])\n",
      "\t - regridding LANDFRAC (known targets: ['b.e20.BHIST.f09_g16.20thC.125.02'])\n",
      "  ...CAM climatologies have been regridded successfully.\n"
     ]
    }
   ],
   "source": [
    "#Regrid model climatology files to match either\n",
    "#observations or CAM baseline climatologies.\n",
    "#This call uses the \"regridding_scripts\" specified\n",
    "#in the config file:\n",
    "adf.regrid_climo()\n",
    "\n",
    " "
   ]
  },
  {
   "cell_type": "code",
   "execution_count": 19,
   "id": "d3d9ff4a-b720-47f1-89e9-10e06dab1d41",
   "metadata": {
    "tags": []
   },
   "outputs": [
    {
     "name": "stdout",
     "output_type": "stream",
     "text": [
      "\n",
      "  Calculating AMWG variable table...\n",
      "\t    /glade/scratch/nusbaume/ADF/plots/b.e20.BHIST.f09_g17.20thC.297_05_1990_1999_vs_b.e20.BHIST.f09_g16.20thC.125.02_1990_1999 not found, making new directory\n",
      "\t - Variable 'SWCF' being added to table\n",
      "\t - Variable 'LWCF' being added to table\n",
      "\t - Variable 'PRECC' being added to table\n",
      "\t - Variable 'PRECL' being added to table\n",
      "\t - Variable 'PSL' being added to table\n",
      "\t - Variable 'Q' being added to table\n",
      "\t   Variable 'Q' has a vertical dimension, which is currently not supported for the AMWG Table. Skipping...\n",
      "\t - Variable 'U' being added to table\n",
      "\t   Variable 'U' has a vertical dimension, which is currently not supported for the AMWG Table. Skipping...\n",
      "\t - Variable 'T' being added to table\n",
      "\t   Variable 'T' has a vertical dimension, which is currently not supported for the AMWG Table. Skipping...\n",
      "\t - Variable 'RELHUM' being added to table\n",
      "\t   Variable 'RELHUM' has a vertical dimension, which is currently not supported for the AMWG Table. Skipping...\n",
      "\t - Variable 'TREFHT' being added to table\n",
      "\t - Variable 'TS' being added to table\n",
      "\t - Variable 'TAUX' being added to table\n",
      "\t - Variable 'TAUY' being added to table\n",
      "\t - Variable 'FSNT' being added to table\n",
      "\t - Variable 'FLNT' being added to table\n",
      "\t - Variable 'LANDFRAC' being added to table\n",
      "\t - Variable 'RESTOM' being added to table\n",
      "\t - Variable 'SWCF' being added to table\n",
      "\t - Variable 'LWCF' being added to table\n",
      "\t - Variable 'PRECC' being added to table\n",
      "\t - Variable 'PRECL' being added to table\n",
      "\t - Variable 'PSL' being added to table\n",
      "\t - Variable 'Q' being added to table\n",
      "\t   Variable 'Q' has a vertical dimension, which is currently not supported for the AMWG Table. Skipping...\n",
      "\t - Variable 'U' being added to table\n",
      "\t   Variable 'U' has a vertical dimension, which is currently not supported for the AMWG Table. Skipping...\n",
      "\t - Variable 'T' being added to table\n",
      "\t   Variable 'T' has a vertical dimension, which is currently not supported for the AMWG Table. Skipping...\n",
      "\t - Variable 'RELHUM' being added to table\n",
      "\t   Variable 'RELHUM' has a vertical dimension, which is currently not supported for the AMWG Table. Skipping...\n",
      "\t - Variable 'TREFHT' being added to table\n",
      "\t - Variable 'TS' being added to table\n",
      "\t - Variable 'TAUX' being added to table\n",
      "\t - Variable 'TAUY' being added to table\n",
      "\t - Variable 'FSNT' being added to table\n",
      "\t - Variable 'FLNT' being added to table\n",
      "\t - Variable 'LANDFRAC' being added to table\n",
      "\t - Variable 'RESTOM' being added to table\n",
      "  ...AMWG variable table has been generated successfully.\n",
      "\n",
      "  Making comparison table...\n",
      "  ... Comparison table has been generated successfully\n"
     ]
    }
   ],
   "source": [
    "#Perform analyses on the simulation(s).\n",
    "#This call uses the \"analysis_scripts\" specified in the\n",
    "#config file:\n",
    "adf.perform_analyses()"
   ]
  },
  {
   "cell_type": "code",
   "execution_count": 20,
   "id": "63f97af2-1c72-467a-9d87-27101506805c",
   "metadata": {
    "tags": []
   },
   "outputs": [
    {
     "name": "stdout",
     "output_type": "stream",
     "text": [
      "plots written to /glade/scratch/nusbaume/ADF/plots\n",
      "\n",
      "  Generating lat/lon maps...\n",
      "\t NOTE: Plot type is set to png\n",
      "\t NOTE: redo_plot is set to False\n",
      "\t - lat/lon maps for SWCF\n",
      "\t - lat/lon maps for LWCF\n",
      "\t - lat/lon maps for PRECC\n",
      "\t - lat/lon maps for PRECL\n",
      "\t - lat/lon maps for PSL\n",
      "\t - lat/lon maps for Q\n",
      "\t - lat/lon maps for U\n",
      "\t - lat/lon maps for T\n",
      "\t - lat/lon maps for RELHUM\n",
      "\t - lat/lon maps for TREFHT\n",
      "\t - lat/lon maps for TS\n",
      "\t - lat/lon maps for TAUX\n",
      "\t - lat/lon maps for TAUY\n",
      "\t - lat/lon maps for FSNT\n",
      "\t - lat/lon maps for FLNT\n",
      "\t - lat/lon maps for LANDFRAC\n",
      "  ...lat/lon maps have been generated successfully.\n",
      "\n",
      "  Generating lat/lon vector maps...\n",
      "\t NOTE: redo_plot is set to False\n",
      "\t - lat/lon vector maps for U,V\n",
      "\t ERROR: Did not find any oclim_fils. Will try to skip.\n",
      "\t INFO: Data Location, dclimo_loc is /glade/scratch/nusbaume/ADF/regrid\n",
      "\t INFO: The glob is: b.e20.BHIST.f09_g16.20thC.125.02_V_*.nc\n",
      "\t - lat/lon vector maps for TAUX,TAUY\n",
      "  ...lat/lon vector maps have been generated successfully.\n",
      "\n",
      "  Generating zonal mean plots...\n",
      "\t NOTE: Plot type is set to png\n",
      "\t NOTE: redo_plot is set to False\n",
      "\t - zonal mean plots for SWCF\n",
      "\t - zonal mean plots for LWCF\n",
      "\t - zonal mean plots for PRECC\n",
      "\t - zonal mean plots for PRECL\n",
      "\t - zonal mean plots for PSL\n",
      "\t - zonal mean plots for Q\n",
      "\t   Q has lev dimension.\n",
      "\t - zonal mean plots for U\n",
      "\t   U has lev dimension.\n",
      "\t - zonal mean plots for T\n",
      "\t   T has lev dimension.\n",
      "\t - zonal mean plots for RELHUM\n",
      "\t   RELHUM has lev dimension.\n",
      "\t - zonal mean plots for TREFHT\n",
      "\t - zonal mean plots for TS\n",
      "\t - zonal mean plots for TAUX\n",
      "\t - zonal mean plots for TAUY\n",
      "\t - zonal mean plots for FSNT\n",
      "\t - zonal mean plots for FLNT\n",
      "\t - zonal mean plots for LANDFRAC\n",
      "  ...Zonal mean plots have been generated successfully.\n",
      "\n",
      "  Generating polar maps...\n",
      "\t NOTE: Plot type is set to png\n",
      "\t NOTE: redo_plot is set to False\n",
      "\t - polar maps for SWCF\n",
      "\t - polar maps for LWCF\n",
      "\t - polar maps for PRECC\n",
      "\t - polar maps for PRECL\n",
      "\t - polar maps for PSL\n",
      "\t - polar maps for Q\n",
      "\t - polar maps for U\n",
      "\t - polar maps for T\n",
      "\t - polar maps for RELHUM\n",
      "\t - polar maps for TREFHT\n",
      "\t - polar maps for TS\n",
      "\t - polar maps for TAUX\n",
      "\t - polar maps for TAUY\n",
      "\t - polar maps for FSNT\n"
     ]
    },
    {
     "ename": "KeyboardInterrupt",
     "evalue": "",
     "output_type": "error",
     "traceback": [
      "\u001b[0;31m---------------------------------------------------------------------------\u001b[0m",
      "\u001b[0;31mKeyboardInterrupt\u001b[0m                         Traceback (most recent call last)",
      "\u001b[0;32m/glade/scratch/nusbaume/ipykernel_186757/1975424812.py\u001b[0m in \u001b[0;36m<module>\u001b[0;34m\u001b[0m\n\u001b[1;32m      2\u001b[0m \u001b[0mplot_path\u001b[0m \u001b[0;34m=\u001b[0m \u001b[0madf\u001b[0m\u001b[0;34m.\u001b[0m\u001b[0mget_basic_info\u001b[0m\u001b[0;34m(\u001b[0m\u001b[0;34m'cam_diag_plot_loc'\u001b[0m\u001b[0;34m)\u001b[0m\u001b[0;34m\u001b[0m\u001b[0;34m\u001b[0m\u001b[0m\n\u001b[1;32m      3\u001b[0m \u001b[0mprint\u001b[0m\u001b[0;34m(\u001b[0m\u001b[0;34mf'plots written to {plot_path}'\u001b[0m\u001b[0;34m)\u001b[0m\u001b[0;34m\u001b[0m\u001b[0;34m\u001b[0m\u001b[0m\n\u001b[0;32m----> 4\u001b[0;31m \u001b[0madf\u001b[0m\u001b[0;34m.\u001b[0m\u001b[0mcreate_plots\u001b[0m\u001b[0;34m(\u001b[0m\u001b[0;34m)\u001b[0m\u001b[0;34m\u001b[0m\u001b[0;34m\u001b[0m\u001b[0m\n\u001b[0m",
      "\u001b[0;32m/glade/work/nusbaume/SE_projects/model_diagnostics/bitterbark_ADF/lib/adf_diag.py\u001b[0m in \u001b[0;36mcreate_plots\u001b[0;34m(self)\u001b[0m\n\u001b[1;32m    997\u001b[0m         \u001b[0;31m#Run the listed scripts:\u001b[0m\u001b[0;34m\u001b[0m\u001b[0;34m\u001b[0m\u001b[0;34m\u001b[0m\u001b[0m\n\u001b[1;32m    998\u001b[0m         self.__diag_scripts_caller(\"plotting\", plot_func_names,\n\u001b[0;32m--> 999\u001b[0;31m                                    log_section = \"create_plots\")\n\u001b[0m\u001b[1;32m   1000\u001b[0m \u001b[0;34m\u001b[0m\u001b[0m\n\u001b[1;32m   1001\u001b[0m     \u001b[0;31m#########\u001b[0m\u001b[0;34m\u001b[0m\u001b[0;34m\u001b[0m\u001b[0;34m\u001b[0m\u001b[0m\n",
      "\u001b[0;32m/glade/work/nusbaume/SE_projects/model_diagnostics/bitterbark_ADF/lib/adf_diag.py\u001b[0m in \u001b[0;36m__diag_scripts_caller\u001b[0;34m(self, scripts_dir, func_names, default_kwargs, log_section)\u001b[0m\n\u001b[1;32m    421\u001b[0m             self.__function_caller(func_name,\n\u001b[1;32m    422\u001b[0m                                    \u001b[0mfunc_kwargs\u001b[0m\u001b[0;34m=\u001b[0m\u001b[0mfunc_kwargs\u001b[0m\u001b[0;34m,\u001b[0m\u001b[0;34m\u001b[0m\u001b[0;34m\u001b[0m\u001b[0m\n\u001b[0;32m--> 423\u001b[0;31m                                    module_name=func_name)\n\u001b[0m\u001b[1;32m    424\u001b[0m \u001b[0;34m\u001b[0m\u001b[0m\n\u001b[1;32m    425\u001b[0m     \u001b[0;31m#########\u001b[0m\u001b[0;34m\u001b[0m\u001b[0;34m\u001b[0m\u001b[0;34m\u001b[0m\u001b[0m\n",
      "\u001b[0;32m/glade/work/nusbaume/SE_projects/model_diagnostics/bitterbark_ADF/lib/adf_diag.py\u001b[0m in \u001b[0;36m__function_caller\u001b[0;34m(self, func_name, func_kwargs, module_name)\u001b[0m\n\u001b[1;32m    455\u001b[0m \u001b[0;34m\u001b[0m\u001b[0m\n\u001b[1;32m    456\u001b[0m         \u001b[0;31m#Otherwise just run function as-is, and return result:\u001b[0m\u001b[0;34m\u001b[0m\u001b[0;34m\u001b[0m\u001b[0;34m\u001b[0m\u001b[0m\n\u001b[0;32m--> 457\u001b[0;31m         \u001b[0;32mreturn\u001b[0m \u001b[0mfunc\u001b[0m\u001b[0;34m(\u001b[0m\u001b[0mself\u001b[0m\u001b[0;34m)\u001b[0m\u001b[0;34m\u001b[0m\u001b[0;34m\u001b[0m\u001b[0m\n\u001b[0m\u001b[1;32m    458\u001b[0m \u001b[0;34m\u001b[0m\u001b[0m\n\u001b[1;32m    459\u001b[0m     \u001b[0;31m#########\u001b[0m\u001b[0;34m\u001b[0m\u001b[0;34m\u001b[0m\u001b[0;34m\u001b[0m\u001b[0m\n",
      "\u001b[0;32m/glade/work/nusbaume/SE_projects/model_diagnostics/bitterbark_ADF/scripts/plotting/polar_map.py\u001b[0m in \u001b[0;36mpolar_map\u001b[0;34m(adfobj)\u001b[0m\n\u001b[1;32m    256\u001b[0m                                     \u001b[0;31m#End if\u001b[0m\u001b[0;34m\u001b[0m\u001b[0;34m\u001b[0m\u001b[0;34m\u001b[0m\u001b[0m\n\u001b[1;32m    257\u001b[0m \u001b[0;34m\u001b[0m\u001b[0m\n\u001b[0;32m--> 258\u001b[0;31m                                     \u001b[0mpf\u001b[0m\u001b[0;34m.\u001b[0m\u001b[0mmake_polar_plot\u001b[0m\u001b[0;34m(\u001b[0m\u001b[0mplot_name\u001b[0m\u001b[0;34m,\u001b[0m \u001b[0mmseasons\u001b[0m\u001b[0;34m[\u001b[0m\u001b[0ms\u001b[0m\u001b[0;34m]\u001b[0m\u001b[0;34m,\u001b[0m \u001b[0moseasons\u001b[0m\u001b[0;34m[\u001b[0m\u001b[0ms\u001b[0m\u001b[0;34m]\u001b[0m\u001b[0;34m,\u001b[0m \u001b[0mdseasons\u001b[0m\u001b[0;34m[\u001b[0m\u001b[0ms\u001b[0m\u001b[0;34m]\u001b[0m\u001b[0;34m,\u001b[0m \u001b[0mhemisphere\u001b[0m\u001b[0;34m=\u001b[0m\u001b[0mhemi\u001b[0m\u001b[0;34m,\u001b[0m \u001b[0;34m**\u001b[0m\u001b[0mvres\u001b[0m\u001b[0;34m)\u001b[0m\u001b[0;34m\u001b[0m\u001b[0;34m\u001b[0m\u001b[0m\n\u001b[0m\u001b[1;32m    259\u001b[0m \u001b[0;34m\u001b[0m\u001b[0m\n\u001b[1;32m    260\u001b[0m                     \u001b[0;32melse\u001b[0m\u001b[0;34m:\u001b[0m \u001b[0;31m#mdata dimensions check\u001b[0m\u001b[0;34m\u001b[0m\u001b[0;34m\u001b[0m\u001b[0m\n",
      "\u001b[0;32m/glade/work/nusbaume/SE_projects/model_diagnostics/bitterbark_ADF/lib/plotting_functions.py\u001b[0m in \u001b[0;36mmake_polar_plot\u001b[0;34m(wks, d1, d2, difference, domain, hemisphere, **kwargs)\u001b[0m\n\u001b[1;32m    323\u001b[0m     \u001b[0;32melse\u001b[0m\u001b[0;34m:\u001b[0m\u001b[0;34m\u001b[0m\u001b[0;34m\u001b[0m\u001b[0m\n\u001b[1;32m    324\u001b[0m         \u001b[0mimg1\u001b[0m \u001b[0;34m=\u001b[0m \u001b[0max1\u001b[0m\u001b[0;34m.\u001b[0m\u001b[0mcontourf\u001b[0m\u001b[0;34m(\u001b[0m\u001b[0mlons\u001b[0m\u001b[0;34m,\u001b[0m \u001b[0mlats\u001b[0m\u001b[0;34m,\u001b[0m \u001b[0md1_cyclic\u001b[0m\u001b[0;34m,\u001b[0m \u001b[0mtransform\u001b[0m\u001b[0;34m=\u001b[0m\u001b[0mccrs\u001b[0m\u001b[0;34m.\u001b[0m\u001b[0mPlateCarree\u001b[0m\u001b[0;34m(\u001b[0m\u001b[0;34m)\u001b[0m\u001b[0;34m,\u001b[0m \u001b[0mcmap\u001b[0m\u001b[0;34m=\u001b[0m\u001b[0mcmap1\u001b[0m\u001b[0;34m,\u001b[0m \u001b[0mnorm\u001b[0m\u001b[0;34m=\u001b[0m\u001b[0mnorm1\u001b[0m\u001b[0;34m,\u001b[0m \u001b[0mlevels\u001b[0m\u001b[0;34m=\u001b[0m\u001b[0mlevels1\u001b[0m\u001b[0;34m)\u001b[0m\u001b[0;34m\u001b[0m\u001b[0;34m\u001b[0m\u001b[0m\n\u001b[0;32m--> 325\u001b[0;31m         \u001b[0mimg2\u001b[0m \u001b[0;34m=\u001b[0m \u001b[0max2\u001b[0m\u001b[0;34m.\u001b[0m\u001b[0mcontourf\u001b[0m\u001b[0;34m(\u001b[0m\u001b[0mlons\u001b[0m\u001b[0;34m,\u001b[0m \u001b[0mlats\u001b[0m\u001b[0;34m,\u001b[0m \u001b[0md2_cyclic\u001b[0m\u001b[0;34m,\u001b[0m \u001b[0mtransform\u001b[0m\u001b[0;34m=\u001b[0m\u001b[0mccrs\u001b[0m\u001b[0;34m.\u001b[0m\u001b[0mPlateCarree\u001b[0m\u001b[0;34m(\u001b[0m\u001b[0;34m)\u001b[0m\u001b[0;34m,\u001b[0m \u001b[0mcmap\u001b[0m\u001b[0;34m=\u001b[0m\u001b[0mcmap1\u001b[0m\u001b[0;34m,\u001b[0m \u001b[0mnorm\u001b[0m\u001b[0;34m=\u001b[0m\u001b[0mnorm1\u001b[0m\u001b[0;34m,\u001b[0m \u001b[0mlevels\u001b[0m\u001b[0;34m=\u001b[0m\u001b[0mlevels1\u001b[0m\u001b[0;34m)\u001b[0m\u001b[0;34m\u001b[0m\u001b[0;34m\u001b[0m\u001b[0m\n\u001b[0m\u001b[1;32m    326\u001b[0m         \u001b[0mimg3\u001b[0m \u001b[0;34m=\u001b[0m \u001b[0max3\u001b[0m\u001b[0;34m.\u001b[0m\u001b[0mcontourf\u001b[0m\u001b[0;34m(\u001b[0m\u001b[0mlons\u001b[0m\u001b[0;34m,\u001b[0m \u001b[0mlats\u001b[0m\u001b[0;34m,\u001b[0m \u001b[0mdif_cyclic\u001b[0m\u001b[0;34m,\u001b[0m \u001b[0mtransform\u001b[0m\u001b[0;34m=\u001b[0m\u001b[0mccrs\u001b[0m\u001b[0;34m.\u001b[0m\u001b[0mPlateCarree\u001b[0m\u001b[0;34m(\u001b[0m\u001b[0;34m)\u001b[0m\u001b[0;34m,\u001b[0m \u001b[0mcmap\u001b[0m\u001b[0;34m=\u001b[0m\u001b[0mcmapdiff\u001b[0m\u001b[0;34m,\u001b[0m \u001b[0mnorm\u001b[0m\u001b[0;34m=\u001b[0m\u001b[0mdnorm\u001b[0m\u001b[0;34m,\u001b[0m \u001b[0mlevels\u001b[0m\u001b[0;34m=\u001b[0m\u001b[0mlevelsdiff\u001b[0m\u001b[0;34m)\u001b[0m\u001b[0;34m\u001b[0m\u001b[0;34m\u001b[0m\u001b[0m\n\u001b[1;32m    327\u001b[0m \u001b[0;34m\u001b[0m\u001b[0m\n",
      "\u001b[0;32m/glade/u/apps/opt/conda/envs/npl/lib/python3.7/site-packages/cartopy/mpl/geoaxes.py\u001b[0m in \u001b[0;36mwrapper\u001b[0;34m(self, *args, **kwargs)\u001b[0m\n\u001b[1;32m    316\u001b[0m \u001b[0;34m\u001b[0m\u001b[0m\n\u001b[1;32m    317\u001b[0m         \u001b[0mkwargs\u001b[0m\u001b[0;34m[\u001b[0m\u001b[0;34m'transform'\u001b[0m\u001b[0;34m]\u001b[0m \u001b[0;34m=\u001b[0m \u001b[0mtransform\u001b[0m\u001b[0;34m\u001b[0m\u001b[0;34m\u001b[0m\u001b[0m\n\u001b[0;32m--> 318\u001b[0;31m         \u001b[0;32mreturn\u001b[0m \u001b[0mfunc\u001b[0m\u001b[0;34m(\u001b[0m\u001b[0mself\u001b[0m\u001b[0;34m,\u001b[0m \u001b[0;34m*\u001b[0m\u001b[0margs\u001b[0m\u001b[0;34m,\u001b[0m \u001b[0;34m**\u001b[0m\u001b[0mkwargs\u001b[0m\u001b[0;34m)\u001b[0m\u001b[0;34m\u001b[0m\u001b[0;34m\u001b[0m\u001b[0m\n\u001b[0m\u001b[1;32m    319\u001b[0m     \u001b[0;32mreturn\u001b[0m \u001b[0mwrapper\u001b[0m\u001b[0;34m\u001b[0m\u001b[0;34m\u001b[0m\u001b[0m\n\u001b[1;32m    320\u001b[0m \u001b[0;34m\u001b[0m\u001b[0m\n",
      "\u001b[0;32m/glade/u/apps/opt/conda/envs/npl/lib/python3.7/site-packages/cartopy/mpl/geoaxes.py\u001b[0m in \u001b[0;36mwrapper\u001b[0;34m(self, *args, **kwargs)\u001b[0m\n\u001b[1;32m    360\u001b[0m             \u001b[0;31m# Use the new points as the input arguments\u001b[0m\u001b[0;34m\u001b[0m\u001b[0;34m\u001b[0m\u001b[0;34m\u001b[0m\u001b[0m\n\u001b[1;32m    361\u001b[0m             \u001b[0margs\u001b[0m \u001b[0;34m=\u001b[0m \u001b[0;34m(\u001b[0m\u001b[0mx\u001b[0m\u001b[0;34m,\u001b[0m \u001b[0my\u001b[0m\u001b[0;34m,\u001b[0m \u001b[0mz\u001b[0m\u001b[0;34m)\u001b[0m \u001b[0;34m+\u001b[0m \u001b[0margs\u001b[0m\u001b[0;34m[\u001b[0m\u001b[0;36m3\u001b[0m\u001b[0;34m:\u001b[0m\u001b[0;34m]\u001b[0m\u001b[0;34m\u001b[0m\u001b[0;34m\u001b[0m\u001b[0m\n\u001b[0;32m--> 362\u001b[0;31m         \u001b[0;32mreturn\u001b[0m \u001b[0mfunc\u001b[0m\u001b[0;34m(\u001b[0m\u001b[0mself\u001b[0m\u001b[0;34m,\u001b[0m \u001b[0;34m*\u001b[0m\u001b[0margs\u001b[0m\u001b[0;34m,\u001b[0m \u001b[0;34m**\u001b[0m\u001b[0mkwargs\u001b[0m\u001b[0;34m)\u001b[0m\u001b[0;34m\u001b[0m\u001b[0;34m\u001b[0m\u001b[0m\n\u001b[0m\u001b[1;32m    363\u001b[0m     \u001b[0;32mreturn\u001b[0m \u001b[0mwrapper\u001b[0m\u001b[0;34m\u001b[0m\u001b[0;34m\u001b[0m\u001b[0m\n\u001b[1;32m    364\u001b[0m \u001b[0;34m\u001b[0m\u001b[0m\n",
      "\u001b[0;32m/glade/u/apps/opt/conda/envs/npl/lib/python3.7/site-packages/cartopy/mpl/geoaxes.py\u001b[0m in \u001b[0;36mcontourf\u001b[0;34m(self, *args, **kwargs)\u001b[0m\n\u001b[1;32m   1716\u001b[0m         \u001b[0;31m# We need to compute the dataLim correctly for contours.\u001b[0m\u001b[0;34m\u001b[0m\u001b[0;34m\u001b[0m\u001b[0;34m\u001b[0m\u001b[0m\n\u001b[1;32m   1717\u001b[0m         bboxes = [col.get_datalim(self.transData)\n\u001b[0;32m-> 1718\u001b[0;31m                   \u001b[0;32mfor\u001b[0m \u001b[0mcol\u001b[0m \u001b[0;32min\u001b[0m \u001b[0mresult\u001b[0m\u001b[0;34m.\u001b[0m\u001b[0mcollections\u001b[0m\u001b[0;34m\u001b[0m\u001b[0;34m\u001b[0m\u001b[0m\n\u001b[0m\u001b[1;32m   1719\u001b[0m                   if col.get_paths()]\n\u001b[1;32m   1720\u001b[0m         \u001b[0;32mif\u001b[0m \u001b[0mbboxes\u001b[0m\u001b[0;34m:\u001b[0m\u001b[0;34m\u001b[0m\u001b[0;34m\u001b[0m\u001b[0m\n",
      "\u001b[0;32m/glade/u/apps/opt/conda/envs/npl/lib/python3.7/site-packages/cartopy/mpl/geoaxes.py\u001b[0m in \u001b[0;36m<listcomp>\u001b[0;34m(.0)\u001b[0m\n\u001b[1;32m   1717\u001b[0m         bboxes = [col.get_datalim(self.transData)\n\u001b[1;32m   1718\u001b[0m                   \u001b[0;32mfor\u001b[0m \u001b[0mcol\u001b[0m \u001b[0;32min\u001b[0m \u001b[0mresult\u001b[0m\u001b[0;34m.\u001b[0m\u001b[0mcollections\u001b[0m\u001b[0;34m\u001b[0m\u001b[0;34m\u001b[0m\u001b[0m\n\u001b[0;32m-> 1719\u001b[0;31m                   if col.get_paths()]\n\u001b[0m\u001b[1;32m   1720\u001b[0m         \u001b[0;32mif\u001b[0m \u001b[0mbboxes\u001b[0m\u001b[0;34m:\u001b[0m\u001b[0;34m\u001b[0m\u001b[0;34m\u001b[0m\u001b[0m\n\u001b[1;32m   1721\u001b[0m             \u001b[0mextent\u001b[0m \u001b[0;34m=\u001b[0m \u001b[0mmtransforms\u001b[0m\u001b[0;34m.\u001b[0m\u001b[0mBbox\u001b[0m\u001b[0;34m.\u001b[0m\u001b[0munion\u001b[0m\u001b[0;34m(\u001b[0m\u001b[0mbboxes\u001b[0m\u001b[0;34m)\u001b[0m\u001b[0;34m\u001b[0m\u001b[0;34m\u001b[0m\u001b[0m\n",
      "\u001b[0;32m/glade/u/apps/opt/conda/envs/npl/lib/python3.7/site-packages/matplotlib/collections.py\u001b[0m in \u001b[0;36mget_datalim\u001b[0;34m(self, transData)\u001b[0m\n\u001b[1;32m    284\u001b[0m             \u001b[0;31m# be careful to only apply the affine part that remains.\u001b[0m\u001b[0;34m\u001b[0m\u001b[0;34m\u001b[0m\u001b[0;34m\u001b[0m\u001b[0m\n\u001b[1;32m    285\u001b[0m \u001b[0;34m\u001b[0m\u001b[0m\n\u001b[0;32m--> 286\u001b[0;31m         \u001b[0;32mif\u001b[0m \u001b[0many\u001b[0m\u001b[0;34m(\u001b[0m\u001b[0mtransform\u001b[0m\u001b[0;34m.\u001b[0m\u001b[0mcontains_branch_seperately\u001b[0m\u001b[0;34m(\u001b[0m\u001b[0mtransData\u001b[0m\u001b[0;34m)\u001b[0m\u001b[0;34m)\u001b[0m\u001b[0;34m:\u001b[0m\u001b[0;34m\u001b[0m\u001b[0;34m\u001b[0m\u001b[0m\n\u001b[0m\u001b[1;32m    287\u001b[0m             \u001b[0;32mif\u001b[0m \u001b[0misinstance\u001b[0m\u001b[0;34m(\u001b[0m\u001b[0moffsets\u001b[0m\u001b[0;34m,\u001b[0m \u001b[0mnp\u001b[0m\u001b[0;34m.\u001b[0m\u001b[0mma\u001b[0m\u001b[0;34m.\u001b[0m\u001b[0mMaskedArray\u001b[0m\u001b[0;34m)\u001b[0m\u001b[0;34m:\u001b[0m\u001b[0;34m\u001b[0m\u001b[0;34m\u001b[0m\u001b[0m\n\u001b[1;32m    288\u001b[0m                 \u001b[0moffsets\u001b[0m \u001b[0;34m=\u001b[0m \u001b[0moffsets\u001b[0m\u001b[0;34m.\u001b[0m\u001b[0mfilled\u001b[0m\u001b[0;34m(\u001b[0m\u001b[0mnp\u001b[0m\u001b[0;34m.\u001b[0m\u001b[0mnan\u001b[0m\u001b[0;34m)\u001b[0m\u001b[0;34m\u001b[0m\u001b[0;34m\u001b[0m\u001b[0m\n",
      "\u001b[0;32m/glade/u/apps/opt/conda/envs/npl/lib/python3.7/site-packages/matplotlib/transforms.py\u001b[0m in \u001b[0;36mcontains_branch_seperately\u001b[0;34m(self, other_transform)\u001b[0m\n\u001b[1;32m   1422\u001b[0m         \u001b[0;31m# for a non-blended transform each separate dimension is the same, so\u001b[0m\u001b[0;34m\u001b[0m\u001b[0;34m\u001b[0m\u001b[0;34m\u001b[0m\u001b[0m\n\u001b[1;32m   1423\u001b[0m         \u001b[0;31m# just return the appropriate shape.\u001b[0m\u001b[0;34m\u001b[0m\u001b[0;34m\u001b[0m\u001b[0;34m\u001b[0m\u001b[0m\n\u001b[0;32m-> 1424\u001b[0;31m         \u001b[0;32mreturn\u001b[0m \u001b[0;34m[\u001b[0m\u001b[0mself\u001b[0m\u001b[0;34m.\u001b[0m\u001b[0mcontains_branch\u001b[0m\u001b[0;34m(\u001b[0m\u001b[0mother_transform\u001b[0m\u001b[0;34m)\u001b[0m\u001b[0;34m]\u001b[0m \u001b[0;34m*\u001b[0m \u001b[0;36m2\u001b[0m\u001b[0;34m\u001b[0m\u001b[0;34m\u001b[0m\u001b[0m\n\u001b[0m\u001b[1;32m   1425\u001b[0m \u001b[0;34m\u001b[0m\u001b[0m\n\u001b[1;32m   1426\u001b[0m     \u001b[0;32mdef\u001b[0m \u001b[0m__sub__\u001b[0m\u001b[0;34m(\u001b[0m\u001b[0mself\u001b[0m\u001b[0;34m,\u001b[0m \u001b[0mother\u001b[0m\u001b[0;34m)\u001b[0m\u001b[0;34m:\u001b[0m\u001b[0;34m\u001b[0m\u001b[0;34m\u001b[0m\u001b[0m\n",
      "\u001b[0;32m/glade/u/apps/opt/conda/envs/npl/lib/python3.7/site-packages/matplotlib/transforms.py\u001b[0m in \u001b[0;36mcontains_branch\u001b[0;34m(self, other)\u001b[0m\n\u001b[1;32m   1401\u001b[0m \u001b[0;34m\u001b[0m\u001b[0m\n\u001b[1;32m   1402\u001b[0m         \u001b[0;31m# check that a subtree is equal to other (starting from self)\u001b[0m\u001b[0;34m\u001b[0m\u001b[0;34m\u001b[0m\u001b[0;34m\u001b[0m\u001b[0m\n\u001b[0;32m-> 1403\u001b[0;31m         \u001b[0;32mfor\u001b[0m \u001b[0m_\u001b[0m\u001b[0;34m,\u001b[0m \u001b[0msub_tree\u001b[0m \u001b[0;32min\u001b[0m \u001b[0mself\u001b[0m\u001b[0;34m.\u001b[0m\u001b[0m_iter_break_from_left_to_right\u001b[0m\u001b[0;34m(\u001b[0m\u001b[0;34m)\u001b[0m\u001b[0;34m:\u001b[0m\u001b[0;34m\u001b[0m\u001b[0;34m\u001b[0m\u001b[0m\n\u001b[0m\u001b[1;32m   1404\u001b[0m             \u001b[0;32mif\u001b[0m \u001b[0msub_tree\u001b[0m \u001b[0;34m==\u001b[0m \u001b[0mother\u001b[0m\u001b[0;34m:\u001b[0m\u001b[0;34m\u001b[0m\u001b[0;34m\u001b[0m\u001b[0m\n\u001b[1;32m   1405\u001b[0m                 \u001b[0;32mreturn\u001b[0m \u001b[0;32mTrue\u001b[0m\u001b[0;34m\u001b[0m\u001b[0;34m\u001b[0m\u001b[0m\n",
      "\u001b[0;32m/glade/u/apps/opt/conda/envs/npl/lib/python3.7/site-packages/matplotlib/transforms.py\u001b[0m in \u001b[0;36m_iter_break_from_left_to_right\u001b[0;34m(self)\u001b[0m\n\u001b[1;32m   2402\u001b[0m     \u001b[0;32mdef\u001b[0m \u001b[0m_iter_break_from_left_to_right\u001b[0m\u001b[0;34m(\u001b[0m\u001b[0mself\u001b[0m\u001b[0;34m)\u001b[0m\u001b[0;34m:\u001b[0m\u001b[0;34m\u001b[0m\u001b[0;34m\u001b[0m\u001b[0m\n\u001b[1;32m   2403\u001b[0m         \u001b[0;32mfor\u001b[0m \u001b[0mleft\u001b[0m\u001b[0;34m,\u001b[0m \u001b[0mright\u001b[0m \u001b[0;32min\u001b[0m \u001b[0mself\u001b[0m\u001b[0;34m.\u001b[0m\u001b[0m_a\u001b[0m\u001b[0;34m.\u001b[0m\u001b[0m_iter_break_from_left_to_right\u001b[0m\u001b[0;34m(\u001b[0m\u001b[0;34m)\u001b[0m\u001b[0;34m:\u001b[0m\u001b[0;34m\u001b[0m\u001b[0;34m\u001b[0m\u001b[0m\n\u001b[0;32m-> 2404\u001b[0;31m             \u001b[0;32myield\u001b[0m \u001b[0mleft\u001b[0m\u001b[0;34m,\u001b[0m \u001b[0mright\u001b[0m \u001b[0;34m+\u001b[0m \u001b[0mself\u001b[0m\u001b[0;34m.\u001b[0m\u001b[0m_b\u001b[0m\u001b[0;34m\u001b[0m\u001b[0;34m\u001b[0m\u001b[0m\n\u001b[0m\u001b[1;32m   2405\u001b[0m         \u001b[0;32mfor\u001b[0m \u001b[0mleft\u001b[0m\u001b[0;34m,\u001b[0m \u001b[0mright\u001b[0m \u001b[0;32min\u001b[0m \u001b[0mself\u001b[0m\u001b[0;34m.\u001b[0m\u001b[0m_b\u001b[0m\u001b[0;34m.\u001b[0m\u001b[0m_iter_break_from_left_to_right\u001b[0m\u001b[0;34m(\u001b[0m\u001b[0;34m)\u001b[0m\u001b[0;34m:\u001b[0m\u001b[0;34m\u001b[0m\u001b[0;34m\u001b[0m\u001b[0m\n\u001b[1;32m   2406\u001b[0m             \u001b[0;32myield\u001b[0m \u001b[0mself\u001b[0m\u001b[0;34m.\u001b[0m\u001b[0m_a\u001b[0m \u001b[0;34m+\u001b[0m \u001b[0mleft\u001b[0m\u001b[0;34m,\u001b[0m \u001b[0mright\u001b[0m\u001b[0;34m\u001b[0m\u001b[0;34m\u001b[0m\u001b[0m\n",
      "\u001b[0;32m/glade/u/apps/opt/conda/envs/npl/lib/python3.7/site-packages/matplotlib/transforms.py\u001b[0m in \u001b[0;36m__add__\u001b[0;34m(self, other)\u001b[0m\n\u001b[1;32m   1346\u001b[0m             \u001b[0mcls\u001b[0m\u001b[0;34m.\u001b[0m\u001b[0mhas_inverse\u001b[0m \u001b[0;34m=\u001b[0m \u001b[0;32mTrue\u001b[0m\u001b[0;34m\u001b[0m\u001b[0;34m\u001b[0m\u001b[0m\n\u001b[1;32m   1347\u001b[0m \u001b[0;34m\u001b[0m\u001b[0m\n\u001b[0;32m-> 1348\u001b[0;31m     \u001b[0;32mdef\u001b[0m \u001b[0m__add__\u001b[0m\u001b[0;34m(\u001b[0m\u001b[0mself\u001b[0m\u001b[0;34m,\u001b[0m \u001b[0mother\u001b[0m\u001b[0;34m)\u001b[0m\u001b[0;34m:\u001b[0m\u001b[0;34m\u001b[0m\u001b[0;34m\u001b[0m\u001b[0m\n\u001b[0m\u001b[1;32m   1349\u001b[0m         \"\"\"\n\u001b[1;32m   1350\u001b[0m         \u001b[0mCompose\u001b[0m \u001b[0mtwo\u001b[0m \u001b[0mtransforms\u001b[0m \u001b[0mtogether\u001b[0m \u001b[0mso\u001b[0m \u001b[0mthat\u001b[0m \u001b[0;34m*\u001b[0m\u001b[0mself\u001b[0m\u001b[0;34m*\u001b[0m \u001b[0;32mis\u001b[0m \u001b[0mfollowed\u001b[0m \u001b[0mby\u001b[0m \u001b[0;34m*\u001b[0m\u001b[0mother\u001b[0m\u001b[0;34m*\u001b[0m\u001b[0;34m.\u001b[0m\u001b[0;34m\u001b[0m\u001b[0;34m\u001b[0m\u001b[0m\n",
      "\u001b[0;31mKeyboardInterrupt\u001b[0m: "
     ]
    }
   ],
   "source": [
    "#Create the plot requested in the plotting_scripts list in the config file:\n",
    "plot_path = adf.get_basic_info('cam_diag_plot_loc')\n",
    "print(f'plots written to {plot_path}')\n",
    "adf.create_plots()"
   ]
  },
  {
   "cell_type": "code",
   "execution_count": 15,
   "id": "95161341-a11c-408c-baf6-44191023f55a",
   "metadata": {
    "tags": []
   },
   "outputs": [
    {
     "name": "stdout",
     "output_type": "stream",
     "text": [
      "\n",
      "  Generating Diagnostics webpages...\n",
      "  ...Webpages have been generated successfully.\n"
     ]
    }
   ],
   "source": [
    "#Create website.\n",
    "if adf.create_html:\n",
    "    adf.create_website()"
   ]
  },
  {
   "cell_type": "markdown",
   "id": "8de79bdf-bdf8-466c-9bbe-4dbd9ea98bbd",
   "metadata": {
    "tags": []
   },
   "source": [
    "### ADF Helpful Methods and Structures "
   ]
  },
  {
   "cell_type": "markdown",
   "id": "106a7c03-d3c8-4229-a0f2-9ebd7b3b57fd",
   "metadata": {
    "tags": []
   },
   "source": [
    "#### Demonstration of a few methods to get information from the ADF object"
   ]
  },
  {
   "cell_type": "code",
   "execution_count": 16,
   "id": "19f366ae-6aa1-4e7c-8c09-f4907c1785ff",
   "metadata": {},
   "outputs": [
    {
     "name": "stdout",
     "output_type": "stream",
     "text": [
      "{'compare_obs': False, 'create_html': True, 'obs_data_loc': '/glade/work/nusbaume/SE_projects/model_diagnostics/ADF_obs', 'cam_regrid_loc': '/glade/scratch/${user}/ADF/regrid', 'cam_overwrite_regrid': False, 'cam_diag_plot_loc': '/glade/scratch/${user}/ADF/plots', 'use_defaults': True, 'plot_press_levels': [200, 850], 'central_longitude': 180, 'weight_season': True, 'num_procs': 8, 'redo_plot': False}\n"
     ]
    }
   ],
   "source": [
    "basic_info_dict = adf.read_config_var(\"diag_basic_info\")\n",
    "print(basic_info_dict)\n",
    "\n",
    "\n"
   ]
  },
  {
   "cell_type": "code",
   "execution_count": 17,
   "id": "367b1c5f-1455-4584-b926-b272605df614",
   "metadata": {},
   "outputs": [
    {
     "name": "stdout",
     "output_type": "stream",
     "text": [
      "{'calc_cam_climo': True, 'cam_overwrite_climo': False, 'cam_case_name': 'b.e20.BHIST.f09_g16.20thC.125.02', 'cam_hist_loc': '/glade/p/cesm/ADF/${diag_cam_baseline_climo.cam_case_name}', 'cam_climo_loc': '/glade/scratch/${user}/ADF/${diag_cam_baseline_climo.cam_case_name}/climo', 'start_year': 1990, 'end_year': 1999, 'cam_ts_done': False, 'cam_ts_save': True, 'cam_overwrite_ts': False, 'cam_ts_loc': '/glade/scratch/${user}/ADF/${diag_cam_baseline_climo.cam_case_name}/ts'}\n"
     ]
    }
   ],
   "source": [
    "baseline_dict = adf.read_config_var(\"diag_cam_baseline_climo\")\n",
    "print(baseline_dict)"
   ]
  },
  {
   "cell_type": "code",
   "execution_count": 18,
   "id": "f4d34570-b650-4da6-88a5-2f9942092a2b",
   "metadata": {},
   "outputs": [
    {
     "name": "stdout",
     "output_type": "stream",
     "text": [
      "['b.e20.BHIST.f09_g17.20thC.297_05']\n"
     ]
    }
   ],
   "source": [
    "case_names = adf.get_cam_info(\"cam_case_name\",required=True)\n",
    "print(case_names)"
   ]
  },
  {
   "cell_type": "code",
   "execution_count": 19,
   "id": "66b7555f-d694-4c23-9046-75990c79153f",
   "metadata": {},
   "outputs": [
    {
     "data": {
      "text/plain": [
       "'png'"
      ]
     },
     "execution_count": 19,
     "metadata": {},
     "output_type": "execute_result"
    }
   ],
   "source": [
    "plot_type = basic_info_dict.get('plot_type', 'png')\n",
    "plot_type"
   ]
  },
  {
   "cell_type": "code",
   "execution_count": 35,
   "id": "cb3efbd0-b7c7-442f-b978-644a67db7ab0",
   "metadata": {},
   "outputs": [],
   "source": [
    "case_climo_loc = adf.get_cam_info('cam_climo_loc', required=True)\n",
    "\n",
    "# Variables used in a CAM v CAM (baseline comparison), not required because not used if compare_obs = True\n",
    "data_name = adf.get_baseline_info('cam_case_name', required=False)\n",
    "data_loc = adf.get_baseline_info(\"cam_climo_loc\", required=False)\n"
   ]
  },
  {
   "cell_type": "code",
   "execution_count": 36,
   "id": "67ea0b70-b4b9-4c26-8222-cbc35e7fff78",
   "metadata": {},
   "outputs": [
    {
     "name": "stdout",
     "output_type": "stream",
     "text": [
      "['SWCF', 'LWCF', 'PRECC', 'PRECL', 'PSL', 'Q', 'U', 'T', 'RELHUM', 'TREFHT', 'TS', 'TAUX', 'TAUY', 'FSNT', 'FLNT', 'LANDFRAC']\n"
     ]
    }
   ],
   "source": [
    "var_list = adf.diag_var_list\n",
    "print(var_list)"
   ]
  },
  {
   "cell_type": "markdown",
   "id": "61d1372c-aade-4c1a-a769-e4b5f4bd2a05",
   "metadata": {},
   "source": [
    " #### Demonstrate how to check for a variable in the list "
   ]
  },
  {
   "cell_type": "code",
   "execution_count": 37,
   "id": "65dcd8d2-a8e6-469e-b30c-55cfe5c6f27e",
   "metadata": {
    "tags": []
   },
   "outputs": [
    {
     "data": {
      "text/plain": [
       "['SWCF',\n",
       " 'LWCF',\n",
       " 'PRECC',\n",
       " 'PRECL',\n",
       " 'PSL',\n",
       " 'Q',\n",
       " 'U',\n",
       " 'T',\n",
       " 'RELHUM',\n",
       " 'TREFHT',\n",
       " 'TS',\n",
       " 'TAUX',\n",
       " 'TAUY',\n",
       " 'FSNT',\n",
       " 'FLNT',\n",
       " 'LANDFRAC']"
      ]
     },
     "execution_count": 37,
     "metadata": {},
     "output_type": "execute_result"
    }
   ],
   "source": [
    "#Print all the variables\n",
    "var_list"
   ]
  },
  {
   "cell_type": "code",
   "execution_count": 38,
   "id": "fe9ddbe7-4882-4ad2-93aa-f4aafc8dab71",
   "metadata": {
    "tags": []
   },
   "outputs": [],
   "source": [
    "# Check for a variable\n",
    "var_name = 'PRECC'\n",
    "assert var_name in var_list, f'Sorry, you need to include {var_name} to make this plot'"
   ]
  },
  {
   "cell_type": "code",
   "execution_count": 39,
   "id": "c209c333-99d6-4a46-a46e-5231308dc61f",
   "metadata": {
    "tags": []
   },
   "outputs": [
    {
     "ename": "AssertionError",
     "evalue": "Sorry, you need to include PRECT to make this plot",
     "output_type": "error",
     "traceback": [
      "\u001b[0;31m---------------------------------------------------------------------------\u001b[0m",
      "\u001b[0;31mAssertionError\u001b[0m                            Traceback (most recent call last)",
      "\u001b[0;32m/glade/scratch/bundy/ipykernel_86242/2118769015.py\u001b[0m in \u001b[0;36m<module>\u001b[0;34m\u001b[0m\n\u001b[1;32m      1\u001b[0m \u001b[0;31m# Check for a variable that isn't in the list\u001b[0m\u001b[0;34m\u001b[0m\u001b[0;34m\u001b[0m\u001b[0;34m\u001b[0m\u001b[0m\n\u001b[1;32m      2\u001b[0m \u001b[0mvar_name\u001b[0m \u001b[0;34m=\u001b[0m \u001b[0;34m'PRECT'\u001b[0m\u001b[0;34m\u001b[0m\u001b[0;34m\u001b[0m\u001b[0m\n\u001b[0;32m----> 3\u001b[0;31m \u001b[0;32massert\u001b[0m \u001b[0mvar_name\u001b[0m \u001b[0;32min\u001b[0m \u001b[0mvar_list\u001b[0m\u001b[0;34m,\u001b[0m \u001b[0;34mf'Sorry, you need to include {var_name} to make this plot'\u001b[0m\u001b[0;34m\u001b[0m\u001b[0;34m\u001b[0m\u001b[0m\n\u001b[0m\u001b[1;32m      4\u001b[0m \u001b[0;34m\u001b[0m\u001b[0m\n\u001b[1;32m      5\u001b[0m \u001b[0;31m# EXPECT AN ERROR for demonstration purposes!\u001b[0m\u001b[0;34m\u001b[0m\u001b[0;34m\u001b[0m\u001b[0;34m\u001b[0m\u001b[0m\n",
      "\u001b[0;31mAssertionError\u001b[0m: Sorry, you need to include PRECT to make this plot"
     ]
    }
   ],
   "source": [
    "# Check for a variable that isn't in the list\n",
    "var_name = 'PRECT'\n",
    "assert var_name in var_list, f'Sorry, you need to include {var_name} to make this plot'\n",
    "\n",
    "# EXPECT AN ERROR for demonstration purposes! \n"
   ]
  },
  {
   "cell_type": "code",
   "execution_count": null,
   "id": "fde8debc-d6db-46c3-a8da-293dd88a11e7",
   "metadata": {},
   "outputs": [],
   "source": []
  },
  {
   "cell_type": "code",
   "execution_count": null,
   "id": "2ced2249-5468-4169-8e34-4875cbd99b12",
   "metadata": {},
   "outputs": [],
   "source": []
  }
 ],
 "metadata": {
  "kernelspec": {
   "display_name": "NPL (conda)",
   "language": "python",
   "name": "npl-conda"
  },
  "language_info": {
   "codemirror_mode": {
    "name": "ipython",
    "version": 3
   },
   "file_extension": ".py",
   "mimetype": "text/x-python",
   "name": "python",
   "nbconvert_exporter": "python",
   "pygments_lexer": "ipython3",
   "version": "3.7.12"
  }
 },
 "nbformat": 4,
 "nbformat_minor": 5
}
